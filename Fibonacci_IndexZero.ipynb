{
 "cells": [
  {
   "cell_type": "markdown",
   "id": "4b279630-fcb6-4808-8ed6-28b174c448e4",
   "metadata": {},
   "source": [
    "## Suite fibonacci"
   ]
  },
  {
   "cell_type": "code",
   "execution_count": null,
   "id": "bb7d7dad-cbde-4493-ade3-1ecf64c1910e",
   "metadata": {},
   "outputs": [],
   "source": [
    "def fibonacci(n):\n",
    "    if not n:\n",
    "        return 0\n",
    "    if n == 1:\n",
    "        return 1\n",
    "\n",
    "    return fibonacci(n-1) + fibonacci(n-2)\n",
    "    \n",
    "\n",
    "fiboHash = {0 : 0, 1 : 1}\n",
    "def fibo_v1(n):\n",
    "    \n",
    "    if not n:\n",
    "        return 0\n",
    "    if n == 1:\n",
    "        return 1\n",
    "\n",
    "    if n-1 not in fiboHash:\n",
    "        fiboHash[n-1] = fibo_v1(n-1)\n",
    "   \n",
    "    if n-2 not in fiboHash:\n",
    "        fiboHash[n-2] = fibo_v1(n-1)\n",
    "        \n",
    "    N1 = fiboHash[n-1]\n",
    "    N2 = fiboHash[n-2]\n",
    "\n",
    "    print (fiboHash)\n",
    "    return N1 + N2\n",
    "\n",
    "print (fibo_v1(5))\n"
   ]
  },
  {
   "cell_type": "markdown",
   "id": "dba357e2-531e-4906-85a7-58c267c84a1b",
   "metadata": {},
   "source": [
    "## INDEX ZERO"
   ]
  },
  {
   "cell_type": "code",
   "execution_count": 8,
   "id": "bc994a83-d141-48df-9b0f-8283fab40ccb",
   "metadata": {},
   "outputs": [
    {
     "name": "stdout",
     "output_type": "stream",
     "text": [
      "lalalal\n",
      "18\n",
      "[-10, -9, -13, -4, -3, -2, -1, 0, 1, 2, 3, 4, 5, 6, 7, 8, 9, 10]\n",
      "[-10, -9, -13, -4, -3, -2, -1, 0, 1, 2, 3, 4, 5, 6, 7, 8, 9, 10]\n",
      "[-10, -9, -13, -4, -3, -2, -1, 0, 1, 2, 3, 4, 5, 6, 7, 8, 9, 10]\n",
      "[-10, -9, -13, -4, -3, -2, -1, 0, 1, 2, 3, 4, 5, 6, 7, 8, 9, 10]\n",
      "7\n"
     ]
    }
   ],
   "source": [
    "def indexZero():\n",
    "    \n",
    "    list_number = [-10, -9, -8 -5, -4, -3, -2, -1, 0, 1, 2, 3, 4, 5, 6, 7, 8, 9, 10]\n",
    "    a = 0\n",
    "    b = len(list_number)\n",
    "    print (len(list_number))\n",
    "    \n",
    "    while True:\n",
    "        print (list_number)\n",
    "        m = int((a + b) / 2)\n",
    "        if list_number[m] == 0:\n",
    "            return m\n",
    "            \n",
    "        if list_number[m] < 0:\n",
    "            a = m \n",
    "\n",
    "        else:\n",
    "            b = m \n",
    "    print (m)\n",
    "\n",
    "print(indexZero())"
   ]
  },
  {
   "cell_type": "code",
   "execution_count": null,
   "id": "c7ad4ec3-442a-4cc0-bd47-87dd5f7274f1",
   "metadata": {},
   "outputs": [],
   "source": []
  }
 ],
 "metadata": {
  "kernelspec": {
   "display_name": "Python 3 (ipykernel)",
   "language": "python",
   "name": "python3"
  },
  "language_info": {
   "codemirror_mode": {
    "name": "ipython",
    "version": 3
   },
   "file_extension": ".py",
   "mimetype": "text/x-python",
   "name": "python",
   "nbconvert_exporter": "python",
   "pygments_lexer": "ipython3",
   "version": "3.10.12"
  }
 },
 "nbformat": 4,
 "nbformat_minor": 5
}
