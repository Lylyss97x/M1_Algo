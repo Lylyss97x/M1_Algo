{
 "cells": [
  {
   "cell_type": "code",
   "execution_count": null,
   "metadata": {},
   "outputs": [],
   "source": [
    "class Solution:\n",
    "    def groupAnagrams(self, strs):\n",
    "\n",
    "        treat = []\n",
    "        \n",
    "        for e in strs:\n",
    "            list_common = []\n",
    "            set_common = None\n",
    "            word = \"\"\n",
    "            print (\"treat\", treat)\n",
    "            if e not in treat:\n",
    "\n",
    "                for i in range (len(e)):\n",
    "                    word += e[i]\n",
    "                    rest = [element for element in strs if e not in treat]\n",
    "                    print (\"rest\", rest)\n",
    "                    containE = [element for element in strs if word in element]\n",
    "                    list_common.extend(containE)\n",
    "                    set_common = set(list_common)\n",
    "\n",
    "                for element in list_common:\n",
    "                    print (\"list common\", list_common)\n",
    "                    treat.append(element)\n",
    "                print (set_common)\n",
    "                print (\"change word\")\n",
    "        "
   ]
  }
 ],
 "metadata": {
  "kernelspec": {
   "display_name": "Python 3",
   "language": "python",
   "name": "python3"
  },
  "language_info": {
   "name": "python",
   "version": "3.12.2"
  }
 },
 "nbformat": 4,
 "nbformat_minor": 2
}
