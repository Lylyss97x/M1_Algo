{
 "cells": [
  {
   "cell_type": "code",
   "execution_count": null,
   "metadata": {},
   "outputs": [],
   "source": [
    "class Solution:\n",
    "    \n",
    "    def topKFrequent(self, nums: List[int], k: int) -> List[int]:\n",
    "        result = []\n",
    "        minLght = 0\n",
    "        set_num = set(nums)\n",
    "        list_num = list(set_num)\n",
    "        for e in list_num:\n",
    "            count = nums.count(e)\n",
    "\n",
    "            if result < len(k):\n",
    "                if count < minlght:\n",
    "                    minLght = count \n",
    "                    result.append(e)\n",
    "            else:\n",
    "                if count > minLght:\n",
    "                    "
   ]
  }
 ],
 "metadata": {
  "kernelspec": {
   "display_name": "Python 3",
   "language": "python",
   "name": "python3"
  },
  "language_info": {
   "name": "python",
   "version": "3.12.2"
  }
 },
 "nbformat": 4,
 "nbformat_minor": 2
}
