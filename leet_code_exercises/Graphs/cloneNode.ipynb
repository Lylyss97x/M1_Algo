{
 "cells": [
  {
   "cell_type": "code",
   "execution_count": null,
   "metadata": {},
   "outputs": [],
   "source": [
    "\n",
    "# Definition for a Node.\n",
    "class Node:\n",
    "    def __init__(self, val = 0, neighbors = None):\n",
    "        self.val = val\n",
    "        self.neighbors = neighbors if neighbors is not None else []\n",
    "\n",
    "from typing import Optional\n",
    "class Solution:\n",
    "\n",
    "    List_Node = []\n",
    "    def cloneGraph(self, node):\n",
    "        for i in range (len(node)):\n",
    "            nodeCreated = Node(i)\n",
    "            list_Node.append(nodeCreated)\n",
    "            nghb = [element for element in node if i not in element]\n",
    "            print (nghb)\n",
    "            node.neighbors.extand(nghb)\n",
    "\n",
    "s1 = Solution()\n",
    "adjList = [[2,4],[1,3],[2,4],[1,3]]\n",
    "node = set(adjList)\n",
    "print (node)\n",
    "raise\n",
    "print (s1.cloneGraph())\n",
    "        \n",
    "\n",
    "            \n",
    "        "
   ]
  }
 ],
 "metadata": {
  "kernelspec": {
   "display_name": "Python 3",
   "language": "python",
   "name": "python3"
  },
  "language_info": {
   "name": "python",
   "version": "3.12.2"
  }
 },
 "nbformat": 4,
 "nbformat_minor": 2
}
