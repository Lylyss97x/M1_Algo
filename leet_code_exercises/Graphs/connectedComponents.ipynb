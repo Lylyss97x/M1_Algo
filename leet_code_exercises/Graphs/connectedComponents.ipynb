{
 "cells": [
  {
   "cell_type": "code",
   "execution_count": 26,
   "metadata": {},
   "outputs": [
    {
     "name": "stdout",
     "output_type": "stream",
     "text": [
      "ok\n",
      "1\n",
      "1\n",
      "ok\n",
      "2\n",
      "2\n",
      "ok\n",
      "3\n",
      "3\n"
     ]
    },
    {
     "data": {
      "text/plain": [
       "1"
      ]
     },
     "execution_count": 26,
     "metadata": {},
     "output_type": "execute_result"
    }
   ],
   "source": [
    "def connectedComponents(edges, n):\n",
    "\n",
    "    edge_cut = 1\n",
    "    for i in range (len(edges)):\n",
    "        \n",
    "        if edges[i] == edges[-1]:\n",
    "            break \n",
    "\n",
    "        print ('ok')\n",
    "        print (edges[i][1])\n",
    "        print (edges[i + 1][0])\n",
    "\n",
    "        if edges[i][1] != edges[i + 1][0]:\n",
    "            print (\"diff\")\n",
    "            edge_cut += 1\n",
    "\n",
    "    return edge_cut\n",
    "\n",
    "n = 5 \n",
    "edges = [[0, 1], [1, 2], [2, 3], [3, 4]]\n",
    "connectedComponents(edges, n)"
   ]
  }
 ],
 "metadata": {
  "kernelspec": {
   "display_name": "Python 3",
   "language": "python",
   "name": "python3"
  },
  "language_info": {
   "codemirror_mode": {
    "name": "ipython",
    "version": 3
   },
   "file_extension": ".py",
   "mimetype": "text/x-python",
   "name": "python",
   "nbconvert_exporter": "python",
   "pygments_lexer": "ipython3",
   "version": "3.12.2"
  }
 },
 "nbformat": 4,
 "nbformat_minor": 2
}
