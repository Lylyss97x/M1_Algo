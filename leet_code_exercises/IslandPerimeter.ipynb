{
 "cells": [
  {
   "cell_type": "markdown",
   "id": "73d539ce-9ddd-4fe7-b20c-f376325e00cc",
   "metadata": {},
   "source": [
    "## ISLAND PERIMETER"
   ]
  },
  {
   "cell_type": "code",
   "execution_count": null,
   "id": "57d7ee57-0790-4a3c-afd7-ecae223a87ac",
   "metadata": {},
   "outputs": [],
   "source": [
    "class Solution:\n",
    "\n",
    "    def islandPerimeter(self, grid: List[List[int]]) -> int:\n",
    "\n",
    "        perimeter = 0\n",
    "\n",
    "        for i in range (len(grid)):\n",
    "            for j in range (len(grid[i])):\n",
    "                print (grid[i][j])\n",
    "                if grid[i][j]:\n",
    "                    perimeter += 4\n",
    "                    if i and grid[i - 1][j] == 1: \n",
    "                        perimeter -= 2\n",
    "                    if j and grid[i][j - 1] == 1: \n",
    "                        perimeter -= 2\n",
    "                    \n",
    "\n",
    "        return perimeter"
   ]
  }
 ],
 "metadata": {
  "kernelspec": {
   "display_name": "Python 3 (ipykernel)",
   "language": "python",
   "name": "python3"
  },
  "language_info": {
   "codemirror_mode": {
    "name": "ipython",
    "version": 3
   },
   "file_extension": ".py",
   "mimetype": "text/x-python",
   "name": "python",
   "nbconvert_exporter": "python",
   "pygments_lexer": "ipython3",
   "version": "3.10.12"
  }
 },
 "nbformat": 4,
 "nbformat_minor": 5
}
