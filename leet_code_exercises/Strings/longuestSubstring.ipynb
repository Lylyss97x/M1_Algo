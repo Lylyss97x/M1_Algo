{
 "cells": [
  {
   "cell_type": "code",
   "execution_count": 11,
   "metadata": {},
   "outputs": [
    {
     "data": {
      "text/plain": [
       "3"
      ]
     },
     "execution_count": 11,
     "metadata": {},
     "output_type": "execute_result"
    }
   ],
   "source": [
    "S = \"pwwkew\"\n",
    "\n",
    "class Solution:\n",
    "    def lengthOfLongestSubstring(self, s):\n",
    "        maxLght = 0\n",
    "        empty_list = []\n",
    "\n",
    "        if not s:\n",
    "            return 0\n",
    "\n",
    "        for e in s:\n",
    "            if e not in empty_list:\n",
    "                empty_list.append(e)\n",
    "            else:\n",
    "                if len(empty_list) > maxLght:\n",
    "                    maxLght = len(empty_list)\n",
    "                empty_list.clear()\n",
    "                empty_list.append(e)\n",
    "\n",
    "        return maxLght\n",
    "\n",
    "s1 = Solution()\n",
    "s1.lengthOfLongestSubstring(S)"
   ]
  }
 ],
 "metadata": {
  "kernelspec": {
   "display_name": "Python 3",
   "language": "python",
   "name": "python3"
  },
  "language_info": {
   "codemirror_mode": {
    "name": "ipython",
    "version": 3
   },
   "file_extension": ".py",
   "mimetype": "text/x-python",
   "name": "python",
   "nbconvert_exporter": "python",
   "pygments_lexer": "ipython3",
   "version": "3.12.2"
  }
 },
 "nbformat": 4,
 "nbformat_minor": 2
}
