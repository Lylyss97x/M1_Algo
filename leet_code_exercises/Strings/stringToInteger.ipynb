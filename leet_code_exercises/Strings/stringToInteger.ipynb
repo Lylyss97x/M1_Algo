{
 "cells": [
  {
   "cell_type": "code",
   "execution_count": 17,
   "metadata": {},
   "outputs": [
    {
     "name": "stdout",
     "output_type": "stream",
     "text": [
      "c\n",
      "1337\n",
      "1337\n"
     ]
    }
   ],
   "source": [
    "import re\n",
    "\n",
    "class Solution:\n",
    "    def myAtoi(self, s):\n",
    "\n",
    "        letters = re.search(r'[a-zA-Z]', s)  \n",
    "        letterFirst = letters.group(0) if letters else None\n",
    "    \n",
    "        if letterFirst:\n",
    "            list_s = list(s)\n",
    "            print (letterFirst)\n",
    "            split_s = s.split(letterFirst)\n",
    "            string_s = ''.join(split_s[0])\n",
    "            print (string_s)\n",
    "            return int(string_s)\n",
    "        else:\n",
    "            return int(s)\n",
    "\n",
    "S = \"1337c0d3\"\n",
    "s1 = Solution()\n",
    "print(s1.myAtoi(S))\n"
   ]
  }
 ],
 "metadata": {
  "kernelspec": {
   "display_name": "Python 3",
   "language": "python",
   "name": "python3"
  },
  "language_info": {
   "codemirror_mode": {
    "name": "ipython",
    "version": 3
   },
   "file_extension": ".py",
   "mimetype": "text/x-python",
   "name": "python",
   "nbconvert_exporter": "python",
   "pygments_lexer": "ipython3",
   "version": "3.12.2"
  }
 },
 "nbformat": 4,
 "nbformat_minor": 2
}
