{
 "cells": [
  {
   "cell_type": "code",
   "execution_count": 22,
   "metadata": {},
   "outputs": [
    {
     "data": {
      "text/plain": [
       "'a'"
      ]
     },
     "execution_count": 22,
     "metadata": {},
     "output_type": "execute_result"
    }
   ],
   "source": [
    "import copy\n",
    "\n",
    "\n",
    "S = \"ac\"\n",
    "\n",
    "class Solution:\n",
    "    def longestPalindrome(self, s):\n",
    "        maxLght = 0\n",
    "        list_s = list(s)\n",
    "        set_s = set(s)\n",
    "        \n",
    "        s_copy = copy.deepcopy(s)\n",
    "\n",
    "        if len(list_s) == len(set_s):\n",
    "            return s[0]\n",
    "\n",
    "        if len(list_s) == 1:\n",
    "            return s\n",
    "\n",
    "        for e in list_s:\n",
    "            list_s.remove(e)\n",
    "            if list_s.__contains__(e):\n",
    "                index = list_s.index(e)\n",
    "\n",
    "                if list_s.index(e) == 1:\n",
    "                    if len(list_s[:index + 1]) + 1 > maxLght:\n",
    "                        maxLght = s_copy[:(index + 1)+1]\n",
    "\n",
    "\n",
    "                elif list_s.index(e) == 0:\n",
    "                    palindrom = e + list_s[0]\n",
    "                    if len(palindrom) > maxLght:\n",
    "                        maxLght = palindrom\n",
    "\n",
    "                elif not list_s.index(e):\n",
    "                    pass\n",
    "\n",
    "        return maxLght\n",
    "\n",
    "                \n",
    "\n",
    "s1 = Solution()\n",
    "s1.longestPalindrome(S)"
   ]
  }
 ],
 "metadata": {
  "kernelspec": {
   "display_name": "Python 3",
   "language": "python",
   "name": "python3"
  },
  "language_info": {
   "codemirror_mode": {
    "name": "ipython",
    "version": 3
   },
   "file_extension": ".py",
   "mimetype": "text/x-python",
   "name": "python",
   "nbconvert_exporter": "python",
   "pygments_lexer": "ipython3",
   "version": "3.12.2"
  }
 },
 "nbformat": 4,
 "nbformat_minor": 2
}
