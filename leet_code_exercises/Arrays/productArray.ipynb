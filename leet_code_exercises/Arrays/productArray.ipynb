{
 "cells": [
  {
   "cell_type": "code",
   "execution_count": null,
   "metadata": {},
   "outputs": [],
   "source": [
    "import copy\n",
    "\n",
    "class Solution:\n",
    "    def productExceptSelf(self, nums: List[int]) -> List[int]:\n",
    "\n",
    "        prod =  []\n",
    "        for i in range (len(nums)):\n",
    "            values = 1\n",
    "            list_nums = copy.deepcopy(nums)\n",
    "            list_nums.remove(nums[i])\n",
    "            for e in list_nums:\n",
    "                values *= e\n",
    "            prod.append(values)\n",
    "\n",
    "        return prod\n",
    "\n",
    "        "
   ]
  }
 ],
 "metadata": {
  "kernelspec": {
   "display_name": "Python 3",
   "language": "python",
   "name": "python3"
  },
  "language_info": {
   "name": "python",
   "version": "3.12.2"
  }
 },
 "nbformat": 4,
 "nbformat_minor": 2
}
