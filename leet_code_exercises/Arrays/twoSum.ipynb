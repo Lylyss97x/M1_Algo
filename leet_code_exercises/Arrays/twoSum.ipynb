{
 "cells": [
  {
   "cell_type": "code",
   "execution_count": null,
   "metadata": {},
   "outputs": [],
   "source": [
    "class Solution:\n",
    "    def twoSum(self, nums, target):\n",
    "\n",
    "        dictValues= {}\n",
    "        \n",
    "        for i in range(len(nums)):\n",
    "\n",
    "            addValues = target - nums[i]\n",
    "            \n",
    "            if addValues in dictValues:\n",
    "                return [dictValues[addValues], i] \n",
    "            \n",
    "            dictValues[nums[i]] = i\n",
    "        \n",
    "        return []\n",
    "        "
   ]
  }
 ],
 "metadata": {
  "kernelspec": {
   "display_name": "Python 3",
   "language": "python",
   "name": "python3"
  },
  "language_info": {
   "name": "python",
   "version": "3.12.2"
  }
 },
 "nbformat": 4,
 "nbformat_minor": 2
}
