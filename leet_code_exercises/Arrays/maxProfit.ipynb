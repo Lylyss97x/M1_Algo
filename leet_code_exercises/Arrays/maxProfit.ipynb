{
 "cells": [
  {
   "cell_type": "code",
   "execution_count": null,
   "metadata": {},
   "outputs": [],
   "source": [
    "class Solution:\n",
    "\n",
    "    def maxProfit(self, prices: List[int]) -> int:\n",
    "\n",
    "        n = len(prices)\n",
    "        max_profit = float('-inf') \n",
    "        \n",
    "        for i in range(n):\n",
    "            profit = 0  \n",
    "            \n",
    "            for j in range(i, n):\n",
    "                profit += prices[j] \n",
    "                \n",
    "                max_profit = max(max_profit, profit)\n",
    "        \n",
    "        return max_profit\n",
    "        "
   ]
  }
 ],
 "metadata": {
  "kernelspec": {
   "display_name": "Python 3",
   "language": "python",
   "name": "python3"
  },
  "language_info": {
   "name": "python",
   "version": "3.12.2"
  }
 },
 "nbformat": 4,
 "nbformat_minor": 2
}
