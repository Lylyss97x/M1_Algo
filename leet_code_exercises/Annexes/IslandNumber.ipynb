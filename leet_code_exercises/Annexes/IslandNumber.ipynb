{
 "cells": [
  {
   "cell_type": "code",
   "execution_count": 8,
   "metadata": {},
   "outputs": [
    {
     "name": "stdout",
     "output_type": "stream",
     "text": [
      "3\n"
     ]
    }
   ],
   "source": [
    "grid = [\n",
    "  [\"1\",\"1\",\"0\",\"0\",\"0\"],\n",
    "  [\"1\",\"1\",\"0\",\"0\",\"0\"],\n",
    "  [\"0\",\"0\",\"1\",\"0\",\"0\"],\n",
    "  [\"0\",\"0\",\"0\",\"1\",\"1\"]\n",
    "]\n",
    "class Solution:\n",
    "        \n",
    "\n",
    "        def __init__ (self, grid):\n",
    "            self.grid = grid\n",
    "            self.row = len(grid)\n",
    "            self.col = len(grid[0])\n",
    "            self.numIslands = 0\n",
    "\n",
    "        def removeIsland(self, i, j):\n",
    "            if grid[i][j] == '1':\n",
    "                grid[i][j] = '0'\n",
    "\n",
    "        def islandFound(self, row, col):\n",
    "            return row >= 0 and row < len(grid) and col >= 0 and col < len(grid[0]) and grid[row][col] == \"1\"\n",
    "\n",
    "        def dfs(self, row, col):\n",
    "\n",
    "            if self.islandFound(row, col):\n",
    "                self.removeIsland(row, col)\n",
    "\n",
    "                for new_row, new_col in [(row - 1, col), (row + 1, col), (row, col - 1), (row, col + 1)]:\n",
    "                    self.dfs(new_row, new_col)\n",
    "\n",
    "        def numberIslands(self):\n",
    "\n",
    "            count = 0\n",
    "            for i in range(0, self.row):\n",
    "                for j in range(0, self.col):\n",
    "                    if self.grid[i][j] == \"1\":\n",
    "                        count += 1\n",
    "                        self.dfs(i, j)\n",
    "\n",
    "                        \n",
    "            return count\n",
    "\n",
    "\n",
    "s1 = Solution(grid)\n",
    "print (s1.numberIslands())\n",
    "\n",
    "    \n",
    "        "
   ]
  }
 ],
 "metadata": {
  "kernelspec": {
   "display_name": "Python 3",
   "language": "python",
   "name": "python3"
  },
  "language_info": {
   "codemirror_mode": {
    "name": "ipython",
    "version": 3
   },
   "file_extension": ".py",
   "mimetype": "text/x-python",
   "name": "python",
   "nbconvert_exporter": "python",
   "pygments_lexer": "ipython3",
   "version": "3.12.2"
  }
 },
 "nbformat": 4,
 "nbformat_minor": 2
}
