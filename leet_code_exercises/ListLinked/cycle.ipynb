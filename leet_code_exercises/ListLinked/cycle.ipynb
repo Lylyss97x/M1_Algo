{
 "cells": [
  {
   "cell_type": "code",
   "execution_count": null,
   "metadata": {},
   "outputs": [],
   "source": [
    "class ListNode:\n",
    "    def __init__(self, x):\n",
    "\n",
    "        self.val = x\n",
    "        self.next = None\n",
    "\n",
    "class Solution:\n",
    "    def hasCycle(self, head):\n",
    "\n",
    "        if not head:\n",
    "            return False\n",
    "        \n",
    "        pointeurTortue = head\n",
    "        pointeurLievre = head\n",
    "        \n",
    "        while pointeurLievre and pointeurLievre.next:\n",
    "            pointeurTortue = pointeurTortue.next          \n",
    "            pointeurLievre = pointeurLievre.next.next   \n",
    "            \n",
    "            if pointeurTortue == pointeurLievre:        \n",
    "                return True\n",
    "        \n",
    "        return False\n",
    "        "
   ]
  }
 ],
 "metadata": {
  "kernelspec": {
   "display_name": "Python 3",
   "language": "python",
   "name": "python3"
  },
  "language_info": {
   "name": "python",
   "version": "3.12.2"
  }
 },
 "nbformat": 4,
 "nbformat_minor": 2
}
