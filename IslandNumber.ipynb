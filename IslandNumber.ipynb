{
 "cells": [
  {
   "cell_type": "code",
   "execution_count": null,
   "metadata": {},
   "outputs": [],
   "source": [
    "grid = [[\"1\",\"1\",\"1\",\"1\",\"0\"],[\"1\",\"1\",\"0\",\"1\",\"0\"],[\"1\",\"1\",\"0\",\"0\",\"0\"],[\"0\",\"0\",\"0\",\"0\",\"0\"]]\n",
    "\n",
    "class Solution:\n",
    "\n",
    "        numIslands = 0\n",
    "        row= len(grid)\n",
    "        col = len(grid[0])\n",
    "\n",
    "        def removeIsland(i, j):\n",
    "            if grid[i][j]:\n",
    "                grid[i][j] = 0\n",
    "\n",
    "        def islandFound(self, grid, row, col):\n",
    "            return row >= 0 and row < len(grid) and col >= 0 and col < len(grid[0]) and grid[row][col] == \"1\"\n",
    "\n",
    "        def dfs(self, grid, row, col):\n",
    "\n",
    "            if islandFound(grid, row, col):\n",
    "                removeIsland(row, col)\n",
    "\n",
    "                for new_row, new_col in [(row - 1, col), (row + 1, col), (row, col - 1), (row, col + 1)]:\n",
    "                    self.dfs(new_row, new_col, grid)\n",
    "\n",
    "        def numIslands(self, grid) -> int:\n",
    "\n",
    "            for i in range(0, row):\n",
    "                for j in range(0, col):\n",
    "                    if grid[row][col] == \"1\":\n",
    "                        count += 1\n",
    "                        self.dfs(row, col, grid)\n",
    "\n",
    "                        \n",
    "            return count\n",
    "\n",
    "\n",
    "s1 = Solution()\n",
    "print (s1.numIslands(grid))\n",
    "\n",
    "    \n",
    "        "
   ]
  }
 ],
 "metadata": {
  "kernelspec": {
   "display_name": "Python 3",
   "language": "python",
   "name": "python3"
  },
  "language_info": {
   "name": "python",
   "version": "3.12.2"
  }
 },
 "nbformat": 4,
 "nbformat_minor": 2
}
